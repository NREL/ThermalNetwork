{
 "cells": [
  {
   "cell_type": "code",
   "execution_count": 1,
   "id": "0403de63-f310-4f74-9c82-31e7ce63f6b0",
   "metadata": {},
   "outputs": [],
   "source": [
    "import json\n"
   ]
  },
  {
   "cell_type": "code",
   "execution_count": 2,
   "id": "5cb9e6a6-8a0a-43cc-a0c8-391ff8ac6179",
   "metadata": {},
   "outputs": [],
   "source": [
    "with open(\"../demos/sdk_output_skeleton_2_ghe_sequential/network.geojson\") as f:\n",
    "    json_data2 = json.load(f)\n"
   ]
  },
  {
   "cell_type": "code",
   "execution_count": 3,
   "id": "8a10f9f6-551e-4eea-a917-2b8cb945584a",
   "metadata": {},
   "outputs": [],
   "source": [
    "with open(\"../demos/sdk_output_skeleton_1_ghe/network.geojson\") as f:\n",
    "    json_data = json.load(f)\n"
   ]
  },
  {
   "cell_type": "code",
   "execution_count": 4,
   "id": "6adcb768-e172-41fb-8330-397953802867",
   "metadata": {},
   "outputs": [],
   "source": [
    "geojson_data = json_data\n",
    "geojson_data2 = json_data2\n"
   ]
  },
  {
   "cell_type": "code",
   "execution_count": null,
   "id": "1c2ca78a-4309-41f6-84a9-34446903848c",
   "metadata": {},
   "outputs": [],
   "source": []
  },
  {
   "cell_type": "raw",
   "id": "c0c5b980-e6d5-4d53-868e-2a8894bc2bc0",
   "metadata": {},
   "source": [
    "\n",
    "The code block you're referring to is part of the loop that determines the connected features in a closed loop. Here's a breakdown of what it does:\n",
    "\n",
    "1.The loop starts with while True, which means it will continue indefinitely until it encounters a break statement.\n",
    "2.It iterates over each connector in the connectors list.\n",
    "3.It checks if the startFeatureId of the connector matches the last connected feature in the connected_features list. This ensures that the next feature in the loop is connected to the current feature.\n",
    "4.If a match is found, it assigns the endFeatureId of the connector to next_feature_id.\n",
    "5.The next_feature_id is appended to the connected_features list.\n",
    "6.It checks if the next_feature_id is the same as the start_feature_id. If they match, it means the loop has been completed and it breaks out of the loop.\n",
    "7.If next_feature_id is None (no matching connector found), it means the loop has been broken and it breaks out of the loop.\n",
    "\n",
    "Essentially, this loop traverses the connectors in the GeoJSON data to determine the connected features in a closed loop. It starts with the first connector, finds the next connected feature, and continues until it reaches the starting feature again, forming a closed loop.\n"
   ]
  },
  {
   "cell_type": "code",
   "execution_count": 5,
   "id": "e5b18503-4141-43e4-b97a-4f8ef5df3031",
   "metadata": {},
   "outputs": [],
   "source": [
    "\n",
    "#THIS IS GOOD\n",
    "def find_startloop_feature_id(features):\n",
    "    for feature in features:\n",
    "        if feature[\"properties\"].get(\"startLoop\") == \"true\":\n",
    "            start_feature_id = feature[\"properties\"].get(\"buildingId\") or feature[\"properties\"].get(\"DSId\")\n",
    "            return start_feature_id\n",
    "    return None\n",
    "\n",
    "def get_connected_features(geojson_data):\n",
    "    features = geojson_data[\"features\"]\n",
    "    connectors = [feature for feature in features if feature[\"properties\"][\"type\"] == \"ThermalConnector\"]\n",
    "    connected_features = []\n",
    "\n",
    "    #get the id of the building or ds from the thermaljunction that has startloop: true\n",
    "    startloop_feature_id = find_startloop_feature_id(features)\n",
    "\n",
    "    # Start with the first connector\n",
    "    start_feature_id = connectors[0][\"properties\"][\"startFeatureId\"]\n",
    "    connected_features.append(start_feature_id)\n",
    "\n",
    "    while True:\n",
    "        next_feature_id = None\n",
    "        for connector in connectors:\n",
    "            if connector[\"properties\"][\"startFeatureId\"] == connected_features[-1]:\n",
    "                next_feature_id = connector[\"properties\"][\"endFeatureId\"]\n",
    "                break\n",
    "\n",
    "        if next_feature_id:\n",
    "            connected_features.append(next_feature_id)\n",
    "            if next_feature_id == start_feature_id:\n",
    "                break\n",
    "        else:\n",
    "            break\n",
    "\n",
    "    # Filter and return the building and district system features\n",
    "    connected_objects = []\n",
    "    for feature in features:\n",
    "        feature_id = feature[\"properties\"][\"id\"]\n",
    "        if feature_id in connected_features and feature[\"properties\"][\"type\"] in [\"Building\", \"District System\"]:\n",
    "            connected_objects.append({\n",
    "                \"id\": feature_id,\n",
    "                \"type\": feature[\"properties\"][\"type\"],\n",
    "                \"name\": feature[\"properties\"].get(\"name\", \"\"),\n",
    "                \"start_loop\": \"true\" if feature_id == startloop_feature_id else None\n",
    "            })\n",
    "\n",
    "    return connected_objects\n",
    "\n",
    "def reorder_connected_features(features):\n",
    "    while features[0].get(\"start_loop\") != \"true\":\n",
    "        features.append(features.pop(0))\n",
    "    return features\n"
   ]
  },
  {
   "cell_type": "code",
   "execution_count": 6,
   "id": "300edce2-744d-4c81-b081-f06134330dcd",
   "metadata": {},
   "outputs": [
    {
     "name": "stdout",
     "output_type": "stream",
     "text": [
      "{'id': '8', 'type': 'Building', 'name': 'Hospital 1', 'start_loop': None}\n",
      "{'id': '9', 'type': 'Building', 'name': 'Hospital 2', 'start_loop': None}\n",
      "{'id': '10', 'type': 'Building', 'name': 'Mixed use 2', 'start_loop': None}\n",
      "{'id': 'dd69549c-ecfc-4245-96dc-5b6127f34f46', 'type': 'District System', 'name': 'New District System_1', 'start_loop': None}\n",
      "{'id': '47fd01d3-3d72-46c0-85f2-a12854783764', 'type': 'District System', 'name': 'New District System_2', 'start_loop': None}\n"
     ]
    },
    {
     "ename": "KeyboardInterrupt",
     "evalue": "",
     "output_type": "error",
     "traceback": [
      "\u001b[0;31m---------------------------------------------------------------------------\u001b[0m",
      "\u001b[0;31mKeyboardInterrupt\u001b[0m                         Traceback (most recent call last)",
      "\u001b[1;32m/Users/nmoore/github/ThermalNetwork/topology/final.ipynb Cell 8\u001b[0m line \u001b[0;36m4\n\u001b[1;32m      <a href='vscode-notebook-cell:/Users/nmoore/github/ThermalNetwork/topology/final.ipynb#X10sZmlsZQ%3D%3D?line=1'>2</a>\u001b[0m \u001b[39mfor\u001b[39;00m feature \u001b[39min\u001b[39;00m connected_features:\n\u001b[1;32m      <a href='vscode-notebook-cell:/Users/nmoore/github/ThermalNetwork/topology/final.ipynb#X10sZmlsZQ%3D%3D?line=2'>3</a>\u001b[0m     \u001b[39mprint\u001b[39m(feature)\n\u001b[0;32m----> <a href='vscode-notebook-cell:/Users/nmoore/github/ThermalNetwork/topology/final.ipynb#X10sZmlsZQ%3D%3D?line=3'>4</a>\u001b[0m reordered_features \u001b[39m=\u001b[39m reorder_connected_features(connected_features)\n\u001b[1;32m      <a href='vscode-notebook-cell:/Users/nmoore/github/ThermalNetwork/topology/final.ipynb#X10sZmlsZQ%3D%3D?line=4'>5</a>\u001b[0m reordered_features\n",
      "\u001b[1;32m/Users/nmoore/github/ThermalNetwork/topology/final.ipynb Cell 8\u001b[0m line \u001b[0;36m5\n\u001b[1;32m     <a href='vscode-notebook-cell:/Users/nmoore/github/ThermalNetwork/topology/final.ipynb#X10sZmlsZQ%3D%3D?line=48'>49</a>\u001b[0m \u001b[39mdef\u001b[39;00m \u001b[39mreorder_connected_features\u001b[39m(features):\n\u001b[1;32m     <a href='vscode-notebook-cell:/Users/nmoore/github/ThermalNetwork/topology/final.ipynb#X10sZmlsZQ%3D%3D?line=49'>50</a>\u001b[0m     \u001b[39mwhile\u001b[39;00m features[\u001b[39m0\u001b[39m]\u001b[39m.\u001b[39mget(\u001b[39m'\u001b[39m\u001b[39mstart_loop\u001b[39m\u001b[39m'\u001b[39m) \u001b[39m!=\u001b[39m \u001b[39m'\u001b[39m\u001b[39mtrue\u001b[39m\u001b[39m'\u001b[39m:\n\u001b[0;32m---> <a href='vscode-notebook-cell:/Users/nmoore/github/ThermalNetwork/topology/final.ipynb#X10sZmlsZQ%3D%3D?line=50'>51</a>\u001b[0m         features\u001b[39m.\u001b[39;49mappend(features\u001b[39m.\u001b[39;49mpop(\u001b[39m0\u001b[39;49m))\n\u001b[1;32m     <a href='vscode-notebook-cell:/Users/nmoore/github/ThermalNetwork/topology/final.ipynb#X10sZmlsZQ%3D%3D?line=51'>52</a>\u001b[0m     \u001b[39mreturn\u001b[39;00m features\n",
      "\u001b[0;31mKeyboardInterrupt\u001b[0m: "
     ]
    }
   ],
   "source": [
    "connected_features = get_connected_features(geojson_data2)\n",
    "for feature in connected_features:\n",
    "    print(feature)\n",
    "reordered_features = reorder_connected_features(connected_features)\n",
    "reordered_features\n"
   ]
  },
  {
   "cell_type": "code",
   "execution_count": null,
   "id": "4453436d-c08c-413f-8c44-2a99c4fb3a3e",
   "metadata": {},
   "outputs": [],
   "source": []
  }
 ],
 "metadata": {
  "kernelspec": {
   "display_name": "Python 3 (ipykernel)",
   "language": "python",
   "name": "python3"
  },
  "language_info": {
   "codemirror_mode": {
    "name": "ipython",
    "version": 3
   },
   "file_extension": ".py",
   "mimetype": "text/x-python",
   "name": "python",
   "nbconvert_exporter": "python",
   "pygments_lexer": "ipython3",
   "version": "3.11.4"
  }
 },
 "nbformat": 4,
 "nbformat_minor": 5
}
