{
 "cells": [
  {
   "cell_type": "code",
   "execution_count": 1,
   "id": "0403de63-f310-4f74-9c82-31e7ce63f6b0",
   "metadata": {},
   "outputs": [],
   "source": [
    "import json\n",
    "from pathlib import Path\n",
    "\n",
    "from thermalnetwork.ground_heat_exchanger import GHE"
   ]
  },
  {
   "cell_type": "code",
   "execution_count": 2,
   "id": "8a10f9f6-551e-4eea-a917-2b8cb945584a",
   "metadata": {},
   "outputs": [],
   "source": [
    "geojson_path = Path.cwd().parent / \"demos\" / \"sdk_output_skeleton_1_ghe\" / \"network.geojson\"\n",
    "with open(geojson_path) as f:\n",
    "    geojson_data = json.load(f)"
   ]
  },
  {
   "cell_type": "code",
   "execution_count": 3,
   "id": "5cb9e6a6-8a0a-43cc-a0c8-391ff8ac6179",
   "metadata": {},
   "outputs": [],
   "source": [
    "geojson_path = Path.cwd().parent / \"demos\" / \"sdk_output_skeleton_2_ghe_sequential\" / \"network.geojson\"\n",
    "with open(geojson_path) as f:\n",
    "    geojson_data2 = json.load(f)"
   ]
  },
  {
   "cell_type": "code",
   "execution_count": 4,
   "id": "ae92cecf",
   "metadata": {},
   "outputs": [],
   "source": [
    "geojson_path = Path.cwd().parent / \"demos\" / \"sdk_output_skeleton_2_ghe_staggered\" / \"network.geojson\"\n",
    "with open(geojson_path) as f:\n",
    "    geojson_data2_staggered = json.load(f)"
   ]
  },
  {
   "cell_type": "code",
   "execution_count": null,
   "id": "d74d43a5",
   "metadata": {},
   "outputs": [],
   "source": [
    "# code for line 404 of network.py to generate ghe_data.json\n",
    "\n",
    "# ground_loads = np.array(network_load_per_area) * ghe_area\n",
    "# # tolist() because writing json requires a python list, not a numpy array\n",
    "# self.network[i].json_data[\"loads\"][\"ground_loads\"] = ground_loads.tolist()\n",
    "\n",
    "# sum_of_ground_loads = sum(self.network[i].json_data[\"loads\"][\"ground_loads\"])\n",
    "# print(\"json data\")\n",
    "# print(self.network[i].json_data)\n",
    "\n",
    "# print(\"ghe_input:\")\n",
    "# print(sum_of_ground_loads)\n",
    "# with open(\"ghe_data.json\", \"w\", encoding=\"utf-8\") as f:\n",
    "#     json.dump(self.network[i].json_data, f, ensure_ascii=False, indent=4)"
   ]
  },
  {
   "cell_type": "code",
   "execution_count": null,
   "id": "55b42b44",
   "metadata": {},
   "outputs": [],
   "source": [
    "# CLI command to use with the above code to generate ghe_data.json:\n",
    "# thermalnetwork -y demos/sdk_output_skeleton_2_ghe_sequential/run/baseline_scenario/ghe_dir/sys_params.json -s demos/sdk_output_skeleton_2_ghe_sequential/run/baseline_scenario -f demos/sdk_output_skeleton_2_ghe_sequential/network.geojson -o cli_test  # noqa: E501"
   ]
  },
  {
   "cell_type": "code",
   "execution_count": 8,
   "id": "79c0c8ac",
   "metadata": {},
   "outputs": [],
   "source": [
    "ghe_data_path = Path.cwd().parent / \"ghe_data.json\"\n",
    "ghe_data: dict = json.loads(ghe_data_path.read_text())"
   ]
  },
  {
   "cell_type": "code",
   "execution_count": 9,
   "id": "1858ba5c",
   "metadata": {},
   "outputs": [],
   "source": [
    "ghe = GHE(ghe_data)"
   ]
  },
  {
   "cell_type": "code",
   "execution_count": 10,
   "id": "8f83a6ca",
   "metadata": {},
   "outputs": [],
   "source": [
    "total_ground_loads = sum(ghe_data[\"properties\"][\"loads\"][\"ground_loads\"])"
   ]
  },
  {
   "cell_type": "code",
   "execution_count": 11,
   "id": "bf1d22e3",
   "metadata": {},
   "outputs": [
    {
     "data": {
      "text/html": [
       "<pre style=\"white-space:pre;overflow-x:auto;line-height:normal;font-family:Menlo,'DejaVu Sans Mono',consolas,'Courier New',monospace\"><span style=\"color: #7fbfbf; text-decoration-color: #7fbfbf\">[10:56:22] </span><span style=\"color: #000080; text-decoration-color: #000080\">INFO    </span> GHE_SIZE with total_space_loads: <span style=\"color: #008080; text-decoration-color: #008080; font-weight: bold\">-208067140.49999994</span>                <a href=\"file:///Users/nmoore/github/ThermalNetwork/thermalnetwork/ground_heat_exchanger.py\" target=\"_blank\"><span style=\"color: #7f7f7f; text-decoration-color: #7f7f7f\">ground_heat_exchanger.py</span></a><span style=\"color: #7f7f7f; text-decoration-color: #7f7f7f\">:</span><a href=\"file:///Users/nmoore/github/ThermalNetwork/thermalnetwork/ground_heat_exchanger.py#29\" target=\"_blank\"><span style=\"color: #7f7f7f; text-decoration-color: #7f7f7f\">29</span></a>\n",
       "</pre>\n"
      ],
      "text/plain": [
       "\u001b[2;36m[10:56:22]\u001b[0m\u001b[2;36m \u001b[0m\u001b[34mINFO    \u001b[0m GHE_SIZE with total_space_loads: \u001b[1;36m-208067140.49999994\u001b[0m                \u001b]8;id=283121;file:///Users/nmoore/github/ThermalNetwork/thermalnetwork/ground_heat_exchanger.py\u001b\\\u001b[2mground_heat_exchanger.py\u001b[0m\u001b]8;;\u001b\\\u001b[2m:\u001b[0m\u001b]8;id=869592;file:///Users/nmoore/github/ThermalNetwork/thermalnetwork/ground_heat_exchanger.py#29\u001b\\\u001b[2m29\u001b[0m\u001b]8;;\u001b\\\n"
      ]
     },
     "metadata": {},
     "output_type": "display_data"
    },
    {
     "data": {
      "text/html": [
       "<pre style=\"white-space:pre;overflow-x:auto;line-height:normal;font-family:Menlo,'DejaVu Sans Mono',consolas,'Courier New',monospace\"><span style=\"color: #7fbfbf; text-decoration-color: #7fbfbf\">           </span><span style=\"color: #008000; text-decoration-color: #008000\">DEBUG   </span> creating directory:                                                 <a href=\"file:///Users/nmoore/github/ThermalNetwork/thermalnetwork/ground_heat_exchanger.py\" target=\"_blank\"><span style=\"color: #7f7f7f; text-decoration-color: #7f7f7f\">ground_heat_exchanger.py</span></a><span style=\"color: #7f7f7f; text-decoration-color: #7f7f7f\">:</span><a href=\"file:///Users/nmoore/github/ThermalNetwork/thermalnetwork/ground_heat_exchanger.py#78\" target=\"_blank\"><span style=\"color: #7f7f7f; text-decoration-color: #7f7f7f\">78</span></a>\n",
       "<span style=\"color: #7fbfbf; text-decoration-color: #7fbfbf\">           </span>         <span style=\"color: #800080; text-decoration-color: #800080\">/Users/nmoore/github/ThermalNetwork/topology/</span><span style=\"color: #ff00ff; text-decoration-color: #ff00ff\">test_2</span>                 <span style=\"color: #7f7f7f; text-decoration-color: #7f7f7f\">                           </span>\n",
       "</pre>\n"
      ],
      "text/plain": [
       "\u001b[2;36m          \u001b[0m\u001b[2;36m \u001b[0m\u001b[32mDEBUG   \u001b[0m creating directory:                                                 \u001b]8;id=371;file:///Users/nmoore/github/ThermalNetwork/thermalnetwork/ground_heat_exchanger.py\u001b\\\u001b[2mground_heat_exchanger.py\u001b[0m\u001b]8;;\u001b\\\u001b[2m:\u001b[0m\u001b]8;id=279262;file:///Users/nmoore/github/ThermalNetwork/thermalnetwork/ground_heat_exchanger.py#78\u001b\\\u001b[2m78\u001b[0m\u001b]8;;\u001b\\\n",
       "\u001b[2;36m           \u001b[0m         \u001b[35m/Users/nmoore/github/ThermalNetwork/topology/\u001b[0m\u001b[95mtest_2\u001b[0m                 \u001b[2m                           \u001b[0m\n"
      ]
     },
     "metadata": {},
     "output_type": "display_data"
    },
    {
     "data": {
      "text/html": [
       "<pre style=\"white-space:pre;overflow-x:auto;line-height:normal;font-family:Menlo,'DejaVu Sans Mono',consolas,'Courier New',monospace\"><span style=\"color: #7fbfbf; text-decoration-color: #7fbfbf\">           </span><span style=\"color: #000080; text-decoration-color: #000080\">INFO    </span> saving loads to:                                                    <a href=\"file:///Users/nmoore/github/ThermalNetwork/thermalnetwork/ground_heat_exchanger.py\" target=\"_blank\"><span style=\"color: #7f7f7f; text-decoration-color: #7f7f7f\">ground_heat_exchanger.py</span></a><span style=\"color: #7f7f7f; text-decoration-color: #7f7f7f\">:</span><a href=\"file:///Users/nmoore/github/ThermalNetwork/thermalnetwork/ground_heat_exchanger.py#83\" target=\"_blank\"><span style=\"color: #7f7f7f; text-decoration-color: #7f7f7f\">83</span></a>\n",
       "<span style=\"color: #7fbfbf; text-decoration-color: #7fbfbf\">           </span>         <span style=\"color: #800080; text-decoration-color: #800080\">/Users/nmoore/github/ThermalNetwork/topology/test_2/</span><span style=\"color: #ff00ff; text-decoration-color: #ff00ff\">ground_loads.cs</span> <span style=\"color: #7f7f7f; text-decoration-color: #7f7f7f\">                           </span>\n",
       "<span style=\"color: #7fbfbf; text-decoration-color: #7fbfbf\">           </span>         <span style=\"color: #ff00ff; text-decoration-color: #ff00ff\">v</span>                                                                   <span style=\"color: #7f7f7f; text-decoration-color: #7f7f7f\">                           </span>\n",
       "</pre>\n"
      ],
      "text/plain": [
       "\u001b[2;36m          \u001b[0m\u001b[2;36m \u001b[0m\u001b[34mINFO    \u001b[0m saving loads to:                                                    \u001b]8;id=382509;file:///Users/nmoore/github/ThermalNetwork/thermalnetwork/ground_heat_exchanger.py\u001b\\\u001b[2mground_heat_exchanger.py\u001b[0m\u001b]8;;\u001b\\\u001b[2m:\u001b[0m\u001b]8;id=418021;file:///Users/nmoore/github/ThermalNetwork/thermalnetwork/ground_heat_exchanger.py#83\u001b\\\u001b[2m83\u001b[0m\u001b]8;;\u001b\\\n",
       "\u001b[2;36m           \u001b[0m         \u001b[35m/Users/nmoore/github/ThermalNetwork/topology/test_2/\u001b[0m\u001b[95mground_loads.cs\u001b[0m \u001b[2m                           \u001b[0m\n",
       "\u001b[2;36m           \u001b[0m         \u001b[95mv\u001b[0m                                                                   \u001b[2m                           \u001b[0m\n"
      ]
     },
     "metadata": {},
     "output_type": "display_data"
    },
    {
     "data": {
      "text/html": [
       "<pre style=\"white-space:pre;overflow-x:auto;line-height:normal;font-family:Menlo,'DejaVu Sans Mono',consolas,'Courier New',monospace\"><span style=\"color: #7fbfbf; text-decoration-color: #7fbfbf\">           </span><span style=\"color: #008000; text-decoration-color: #008000\">DEBUG   </span> loads saved to csv file                                             <a href=\"file:///Users/nmoore/github/ThermalNetwork/thermalnetwork/ground_heat_exchanger.py\" target=\"_blank\"><span style=\"color: #7f7f7f; text-decoration-color: #7f7f7f\">ground_heat_exchanger.py</span></a><span style=\"color: #7f7f7f; text-decoration-color: #7f7f7f\">:</span><a href=\"file:///Users/nmoore/github/ThermalNetwork/thermalnetwork/ground_heat_exchanger.py#85\" target=\"_blank\"><span style=\"color: #7f7f7f; text-decoration-color: #7f7f7f\">85</span></a>\n",
       "</pre>\n"
      ],
      "text/plain": [
       "\u001b[2;36m          \u001b[0m\u001b[2;36m \u001b[0m\u001b[32mDEBUG   \u001b[0m loads saved to csv file                                             \u001b]8;id=964929;file:///Users/nmoore/github/ThermalNetwork/thermalnetwork/ground_heat_exchanger.py\u001b\\\u001b[2mground_heat_exchanger.py\u001b[0m\u001b]8;;\u001b\\\u001b[2m:\u001b[0m\u001b]8;id=926994;file:///Users/nmoore/github/ThermalNetwork/thermalnetwork/ground_heat_exchanger.py#85\u001b\\\u001b[2m85\u001b[0m\u001b]8;;\u001b\\\n"
      ]
     },
     "metadata": {},
     "output_type": "display_data"
    },
    {
     "data": {
      "text/html": [
       "<pre style=\"white-space:pre;overflow-x:auto;line-height:normal;font-family:Menlo,'DejaVu Sans Mono',consolas,'Courier New',monospace\"><span style=\"color: #7fbfbf; text-decoration-color: #7fbfbf\">[10:58:20] </span><span style=\"color: #008000; text-decoration-color: #008000\">DEBUG   </span> design found                                                        <a href=\"file:///Users/nmoore/github/ThermalNetwork/thermalnetwork/ground_heat_exchanger.py\" target=\"_blank\"><span style=\"color: #7f7f7f; text-decoration-color: #7f7f7f\">ground_heat_exchanger.py</span></a><span style=\"color: #7f7f7f; text-decoration-color: #7f7f7f\">:</span><a href=\"file:///Users/nmoore/github/ThermalNetwork/thermalnetwork/ground_heat_exchanger.py#88\" target=\"_blank\"><span style=\"color: #7f7f7f; text-decoration-color: #7f7f7f\">88</span></a>\n",
       "</pre>\n"
      ],
      "text/plain": [
       "\u001b[2;36m[10:58:20]\u001b[0m\u001b[2;36m \u001b[0m\u001b[32mDEBUG   \u001b[0m design found                                                        \u001b]8;id=302058;file:///Users/nmoore/github/ThermalNetwork/thermalnetwork/ground_heat_exchanger.py\u001b\\\u001b[2mground_heat_exchanger.py\u001b[0m\u001b]8;;\u001b\\\u001b[2m:\u001b[0m\u001b]8;id=207996;file:///Users/nmoore/github/ThermalNetwork/thermalnetwork/ground_heat_exchanger.py#88\u001b\\\u001b[2m88\u001b[0m\u001b]8;;\u001b\\\n"
      ]
     },
     "metadata": {},
     "output_type": "display_data"
    },
    {
     "data": {
      "text/html": [
       "<pre style=\"white-space:pre;overflow-x:auto;line-height:normal;font-family:Menlo,'DejaVu Sans Mono',consolas,'Courier New',monospace\"><span style=\"color: #7fbfbf; text-decoration-color: #7fbfbf\">           </span><span style=\"color: #008000; text-decoration-color: #008000\">DEBUG   </span> results prepared for writing to output directory                    <a href=\"file:///Users/nmoore/github/ThermalNetwork/thermalnetwork/ground_heat_exchanger.py\" target=\"_blank\"><span style=\"color: #7f7f7f; text-decoration-color: #7f7f7f\">ground_heat_exchanger.py</span></a><span style=\"color: #7f7f7f; text-decoration-color: #7f7f7f\">:</span><a href=\"file:///Users/nmoore/github/ThermalNetwork/thermalnetwork/ground_heat_exchanger.py#90\" target=\"_blank\"><span style=\"color: #7f7f7f; text-decoration-color: #7f7f7f\">90</span></a>\n",
       "</pre>\n"
      ],
      "text/plain": [
       "\u001b[2;36m          \u001b[0m\u001b[2;36m \u001b[0m\u001b[32mDEBUG   \u001b[0m results prepared for writing to output directory                    \u001b]8;id=204751;file:///Users/nmoore/github/ThermalNetwork/thermalnetwork/ground_heat_exchanger.py\u001b\\\u001b[2mground_heat_exchanger.py\u001b[0m\u001b]8;;\u001b\\\u001b[2m:\u001b[0m\u001b]8;id=118020;file:///Users/nmoore/github/ThermalNetwork/thermalnetwork/ground_heat_exchanger.py#90\u001b\\\u001b[2m90\u001b[0m\u001b]8;;\u001b\\\n"
      ]
     },
     "metadata": {},
     "output_type": "display_data"
    },
    {
     "data": {
      "text/html": [
       "<pre style=\"white-space:pre;overflow-x:auto;line-height:normal;font-family:Menlo,'DejaVu Sans Mono',consolas,'Courier New',monospace\"><span style=\"color: #7fbfbf; text-decoration-color: #7fbfbf\">           </span><span style=\"color: #008000; text-decoration-color: #008000\">DEBUG   </span> output written to output directory                                  <a href=\"file:///Users/nmoore/github/ThermalNetwork/thermalnetwork/ground_heat_exchanger.py\" target=\"_blank\"><span style=\"color: #7f7f7f; text-decoration-color: #7f7f7f\">ground_heat_exchanger.py</span></a><span style=\"color: #7f7f7f; text-decoration-color: #7f7f7f\">:</span><a href=\"file:///Users/nmoore/github/ThermalNetwork/thermalnetwork/ground_heat_exchanger.py#93\" target=\"_blank\"><span style=\"color: #7f7f7f; text-decoration-color: #7f7f7f\">93</span></a>\n",
       "</pre>\n"
      ],
      "text/plain": [
       "\u001b[2;36m          \u001b[0m\u001b[2;36m \u001b[0m\u001b[32mDEBUG   \u001b[0m output written to output directory                                  \u001b]8;id=845019;file:///Users/nmoore/github/ThermalNetwork/thermalnetwork/ground_heat_exchanger.py\u001b\\\u001b[2mground_heat_exchanger.py\u001b[0m\u001b]8;;\u001b\\\u001b[2m:\u001b[0m\u001b]8;id=53817;file:///Users/nmoore/github/ThermalNetwork/thermalnetwork/ground_heat_exchanger.py#93\u001b\\\u001b[2m93\u001b[0m\u001b]8;;\u001b\\\n"
      ]
     },
     "metadata": {},
     "output_type": "display_data"
    },
    {
     "data": {
      "text/html": [
       "<pre style=\"white-space:pre;overflow-x:auto;line-height:normal;font-family:Menlo,'DejaVu Sans Mono',consolas,'Courier New',monospace\"><span style=\"color: #7fbfbf; text-decoration-color: #7fbfbf\">           </span><span style=\"color: #008000; text-decoration-color: #008000\">DEBUG   </span> Done writing output                                                 <a href=\"file:///Users/nmoore/github/ThermalNetwork/thermalnetwork/ground_heat_exchanger.py\" target=\"_blank\"><span style=\"color: #7f7f7f; text-decoration-color: #7f7f7f\">ground_heat_exchanger.py</span></a><span style=\"color: #7f7f7f; text-decoration-color: #7f7f7f\">:</span><a href=\"file:///Users/nmoore/github/ThermalNetwork/thermalnetwork/ground_heat_exchanger.py#96\" target=\"_blank\"><span style=\"color: #7f7f7f; text-decoration-color: #7f7f7f\">96</span></a>\n",
       "</pre>\n"
      ],
      "text/plain": [
       "\u001b[2;36m          \u001b[0m\u001b[2;36m \u001b[0m\u001b[32mDEBUG   \u001b[0m Done writing output                                                 \u001b]8;id=120360;file:///Users/nmoore/github/ThermalNetwork/thermalnetwork/ground_heat_exchanger.py\u001b\\\u001b[2mground_heat_exchanger.py\u001b[0m\u001b]8;;\u001b\\\u001b[2m:\u001b[0m\u001b]8;id=730874;file:///Users/nmoore/github/ThermalNetwork/thermalnetwork/ground_heat_exchanger.py#96\u001b\\\u001b[2m96\u001b[0m\u001b]8;;\u001b\\\n"
      ]
     },
     "metadata": {},
     "output_type": "display_data"
    },
    {
     "data": {
      "text/plain": [
       "134.24113385043586"
      ]
     },
     "execution_count": 11,
     "metadata": {},
     "output_type": "execute_result"
    }
   ],
   "source": [
    "ghe.ghe_size(total_ground_loads, Path.cwd())"
   ]
  },
  {
   "cell_type": "raw",
   "id": "c0c5b980-e6d5-4d53-868e-2a8894bc2bc0",
   "metadata": {},
   "source": [
    "\n",
    "The code block you're referring to is part of the loop that determines the connected features in a closed loop. Here's a breakdown of what it does:\n",
    "\n",
    "1.The loop starts with while True, which means it will continue indefinitely until it encounters a break statement.\n",
    "2.It iterates over each connector in the connectors list.\n",
    "3.It checks if the startFeatureId of the connector matches the last connected feature in the connected_features list. This ensures that the next feature in the loop is connected to the current feature.\n",
    "4.If a match is found, it assigns the endFeatureId of the connector to next_feature_id.\n",
    "5.The next_feature_id is appended to the connected_features list.\n",
    "6.It checks if the next_feature_id is the same as the start_feature_id. If they match, it means the loop has been completed and it breaks out of the loop.\n",
    "7.If next_feature_id is None (no matching connector found), it means the loop has been broken and it breaks out of the loop.\n",
    "\n",
    "Essentially, this loop traverses the connectors in the GeoJSON data to determine the connected features in a closed loop. It starts with the first connector, finds the next connected feature, and continues until it reaches the starting feature again, forming a closed loop.\n"
   ]
  },
  {
   "cell_type": "code",
   "execution_count": 5,
   "id": "e5b18503-4141-43e4-b97a-4f8ef5df3031",
   "metadata": {},
   "outputs": [],
   "source": [
    "# THIS IS GOOD\n",
    "def find_startloop_feature_id(features):\n",
    "    for feature in features:\n",
    "        if feature[\"properties\"].get(\"is_ghe_start_loop\") == \"true\":\n",
    "            start_feature_id = feature[\"properties\"].get(\"buildingId\") or feature[\"properties\"].get(\"DSId\")\n",
    "            return start_feature_id\n",
    "    return None\n",
    "\n",
    "\n",
    "def get_connected_features(geojson_data):\n",
    "    features = geojson_data[\"features\"]\n",
    "    connectors = [feature for feature in features if feature[\"properties\"][\"type\"] == \"ThermalConnector\"]\n",
    "    connected_features = []\n",
    "\n",
    "    # get the id of the building or ds from the thermaljunction that has startloop: true\n",
    "    startloop_feature_id = find_startloop_feature_id(features)\n",
    "\n",
    "    # Start with the first connector\n",
    "    start_feature_id = connectors[0][\"properties\"][\"startFeatureId\"]\n",
    "    connected_features.append(start_feature_id)\n",
    "\n",
    "    while True:\n",
    "        next_feature_id = None\n",
    "        for connector in connectors:\n",
    "            if connector[\"properties\"][\"startFeatureId\"] == connected_features[-1]:\n",
    "                next_feature_id = connector[\"properties\"][\"endFeatureId\"]\n",
    "                break\n",
    "\n",
    "        if next_feature_id:\n",
    "            connected_features.append(next_feature_id)\n",
    "            if next_feature_id == start_feature_id:\n",
    "                break\n",
    "        else:\n",
    "            break\n",
    "\n",
    "    # Filter and return the building and district system features\n",
    "    connected_objects = []\n",
    "    for feature in features:\n",
    "        feature_id = feature[\"properties\"][\"id\"]\n",
    "        if feature_id in connected_features and feature[\"properties\"][\"type\"] in [\"Building\", \"District System\"]:\n",
    "            connected_objects.append(\n",
    "                {\n",
    "                    \"id\": feature_id,\n",
    "                    \"type\": feature[\"properties\"][\"type\"],\n",
    "                    \"name\": feature[\"properties\"].get(\"name\", \"\"),\n",
    "                    \"start_loop\": \"true\" if feature_id == startloop_feature_id else None,\n",
    "                }\n",
    "            )\n",
    "\n",
    "    return connected_objects\n",
    "\n",
    "\n",
    "def reorder_connected_features(features):\n",
    "    while features[0].get(\"start_loop\") != \"true\":\n",
    "        features.append(features.pop(0))\n",
    "    return features"
   ]
  },
  {
   "cell_type": "code",
   "execution_count": 6,
   "id": "9b4e46eb",
   "metadata": {},
   "outputs": [],
   "source": [
    "connected_features = get_connected_features(geojson_data2)"
   ]
  },
  {
   "cell_type": "code",
   "execution_count": 7,
   "id": "300edce2-744d-4c81-b081-f06134330dcd",
   "metadata": {},
   "outputs": [
    {
     "name": "stdout",
     "output_type": "stream",
     "text": [
      "{'id': '8', 'type': 'Building', 'name': 'Hospital 1', 'start_loop': None}\n",
      "{'id': '9', 'type': 'Building', 'name': 'Hospital 2', 'start_loop': None}\n",
      "{'id': '10', 'type': 'Building', 'name': 'Mixed use 2', 'start_loop': None}\n",
      "{'id': 'dd69549c-ecfc-4245-96dc-5b6127f34f46', 'type': 'District System', 'name': 'New District System_1', 'start_loop': 'true'}\n",
      "{'id': '47fd01d3-3d72-46c0-85f2-a12854783764', 'type': 'District System', 'name': 'New District System_2', 'start_loop': None}\n"
     ]
    }
   ],
   "source": [
    "connected_features = get_connected_features(geojson_data2)\n",
    "for feature in connected_features:\n",
    "    print(feature)"
   ]
  },
  {
   "cell_type": "code",
   "execution_count": 8,
   "id": "03677854",
   "metadata": {},
   "outputs": [],
   "source": [
    "reordered_features = reorder_connected_features(connected_features)"
   ]
  },
  {
   "cell_type": "code",
   "execution_count": 9,
   "id": "4453436d-c08c-413f-8c44-2a99c4fb3a3e",
   "metadata": {},
   "outputs": [
    {
     "data": {
      "text/plain": [
       "[{'id': 'dd69549c-ecfc-4245-96dc-5b6127f34f46',\n",
       "  'type': 'District System',\n",
       "  'name': 'New District System_1',\n",
       "  'start_loop': 'true'},\n",
       " {'id': '47fd01d3-3d72-46c0-85f2-a12854783764',\n",
       "  'type': 'District System',\n",
       "  'name': 'New District System_2',\n",
       "  'start_loop': None},\n",
       " {'id': '8', 'type': 'Building', 'name': 'Hospital 1', 'start_loop': None},\n",
       " {'id': '9', 'type': 'Building', 'name': 'Hospital 2', 'start_loop': None},\n",
       " {'id': '10', 'type': 'Building', 'name': 'Mixed use 2', 'start_loop': None}]"
      ]
     },
     "execution_count": 9,
     "metadata": {},
     "output_type": "execute_result"
    }
   ],
   "source": [
    "reordered_features"
   ]
  },
  {
   "cell_type": "code",
   "execution_count": null,
   "id": "594d912a",
   "metadata": {},
   "outputs": [],
   "source": []
  }
 ],
 "metadata": {
  "kernelspec": {
   "display_name": "Python 3 (ipykernel)",
   "language": "python",
   "name": "python3"
  },
  "language_info": {
   "codemirror_mode": {
    "name": "ipython",
    "version": 3
   },
   "file_extension": ".py",
   "mimetype": "text/x-python",
   "name": "python",
   "nbconvert_exporter": "python",
   "pygments_lexer": "ipython3",
   "version": "3.11.7"
  }
 },
 "nbformat": 4,
 "nbformat_minor": 5
}
